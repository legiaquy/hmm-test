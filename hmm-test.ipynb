{
 "cells": [
  {
   "cell_type": "code",
   "execution_count": 1,
   "metadata": {},
   "outputs": [
    {
     "data": {
      "text/plain": [
       "{'S->H': 0.7777777777777778,\n",
       " 'S->A': 0.2222222222222222,\n",
       " 'R->H': 0.4,\n",
       " 'R->A': 0.6}"
      ]
     },
     "execution_count": 1,
     "metadata": {},
     "output_type": "execute_result"
    }
   ],
   "source": [
    "# QUESTION 1: WHAT ARE THE PROBABILITIES?\n",
    "# Training data\n",
    "hidden_states = ['S','S','S','S','R','R','R','S','S','S','S','R','R','S','S']\n",
    "observations = ['A','H','H','H','A','A','H','A','H','H','H','A','H','H','H']\n",
    "prior_prob = {'S': 0, 'R': 0}\n",
    "trans_prob = {'S->S': 0, 'S->R': 0, 'R->R': 0, 'R->S': 0}\n",
    "emis_prob = {'S->H': 0, 'S->A': 0, 'R->H': 0, 'R->A': 0}\n",
    "\n",
    "# Find emission probability\n",
    "sh, sa, rh, ra = 0, 0, 0, 0\n",
    "for i in range(len(hidden_states)-1):\n",
    "    if hidden_states[i] is 'S' and observations[i] is 'H':\n",
    "        sh += 1\n",
    "    if hidden_states[i] is 'S' and observations[i] is 'A':\n",
    "        sa += 1\n",
    "    if hidden_states[i] is 'R' and observations[i] is 'H':\n",
    "        rh += 1\n",
    "    if hidden_states[i] is 'R' and observations[i] is 'A':\n",
    "        ra += 1\n",
    "emis_prob['S->H'] = sh/(sh + sa)\n",
    "emis_prob['S->A'] = 1 - emis_prob['S->H']\n",
    "emis_prob['R->H'] = rh/(rh + ra)\n",
    "emis_prob['R->A'] = 1 - emis_prob['R->H']\n",
    "emis_prob"
   ]
  },
  {
   "cell_type": "code",
   "execution_count": 2,
   "metadata": {},
   "outputs": [
    {
     "data": {
      "text/plain": [
       "{'S->S': 0.7777777777777778,\n",
       " 'S->R': 0.2222222222222222,\n",
       " 'R->R': 0.6,\n",
       " 'R->S': 0.4}"
      ]
     },
     "execution_count": 2,
     "metadata": {},
     "output_type": "execute_result"
    }
   ],
   "source": [
    "# Find transmission probability\n",
    "ss, sr, rr, rs = 0, 0, 0, 0\n",
    "for i in range(len(hidden_states)-1):\n",
    "    if hidden_states[i] is 'S' and hidden_states[i+1] is 'S':\n",
    "        ss += 1\n",
    "    if hidden_states[i] is 'S' and hidden_states[i+1] is 'R':\n",
    "        sr += 1\n",
    "    if hidden_states[i] is 'R' and hidden_states[i+1] is 'R':\n",
    "        rr += 1\n",
    "    if hidden_states[i] is 'R' and hidden_states[i+1] is 'S':\n",
    "        rs += 1\n",
    "trans_prob['S->S'] = ss/(ss + sr)\n",
    "trans_prob['S->R'] = 1 - trans_prob['S->S']\n",
    "trans_prob['R->R'] = rr/(rr + rs)\n",
    "trans_prob['R->S'] = 1 - trans_prob['R->R']\n",
    "trans_prob"
   ]
  },
  {
   "cell_type": "code",
   "execution_count": 3,
   "metadata": {},
   "outputs": [
    {
     "data": {
      "text/plain": [
       "{'S': 0.6666666666666666, 'R': 0.33333333333333337}"
      ]
     },
     "execution_count": 3,
     "metadata": {},
     "output_type": "execute_result"
    }
   ],
   "source": [
    "# QUESTION 2: WHAT IS THE PROBABILITY OF A RANDOM DAY?\n",
    "# Find prior probability\n",
    "count_h = 0\n",
    "count_a = 0\n",
    "for s in hidden_states:\n",
    "    if s is 'S':\n",
    "        prior_prob['S'] += 1\n",
    "    if s is 'R':\n",
    "        prior_prob['R'] += 1\n",
    "prior_prob['S'] /= len(hidden_states)\n",
    "prior_prob['R'] = 1 - prior_prob['S']\n",
    "prior_prob"
   ]
  },
  {
   "cell_type": "code",
   "execution_count": 4,
   "metadata": {},
   "outputs": [
    {
     "name": "stdout",
     "output_type": "stream",
     "text": [
      "If Angry:  {'S': 0.4, 'R': 0.6} \n",
      "If Happy:  {'S': 0.7777777777777778, 'R': 0.2222222222222222}\n"
     ]
    }
   ],
   "source": [
    "# QUESTION 3: IF ANGRY or HAPPY, WHAT IS THE PROBABILITY IT'S SUNNY or RAINY?\n",
    "condition_a = {'S': sa/(sa+ra), 'R': ra/(sa+ra)}\n",
    "condition_h = {'S': sh/(sh+rh), 'R': rh/(sh+rh)}\n",
    "print('If Angry: ',condition_a, '\\nIf Happy: ',condition_h)"
   ]
  },
  {
   "cell_type": "code",
   "execution_count": 5,
   "metadata": {},
   "outputs": [
    {
     "data": {
      "text/plain": [
       "['S', 'S', 'S', 'R', 'R', 'S']"
      ]
     },
     "execution_count": 5,
     "metadata": {},
     "output_type": "execute_result"
    }
   ],
   "source": [
    "# QUESTION 4: IF FOR 3 DAYS [HAPPY, HAPPY, ANGRY], WHAT WAS THE WEATHER?\n",
    "from IPython.core.debugger import set_trace\n",
    "new_observations = ['H','H','A','A','A','H']\n",
    "predict_states = []\n",
    "weather = {}\n",
    "weather['S'] = prior_prob['S']\n",
    "weather['R'] = prior_prob['R']\n",
    "\n",
    "# Viterbi algorithm\n",
    "for i in range(len(new_observations)):\n",
    "#     set_trace()\n",
    "    w1 = weather['S']\n",
    "    w2 = weather['R']\n",
    "    if new_observations[i] is 'H':\n",
    "        if i == 0:\n",
    "            weather['S'] *= emis_prob['S->H']\n",
    "            weather['R'] *= emis_prob['R->H']\n",
    "        else:\n",
    "            weather['S'] = max([w1 * emis_prob['S->H'] * trans_prob['S->S'],w2 * emis_prob['S->H'] * trans_prob['R->S']])\n",
    "            weather['R'] = max([w1 * emis_prob['R->H'] * trans_prob['S->R'],w2 * emis_prob['R->H'] * trans_prob['R->R']])\n",
    "        predict_states.append(max(weather, key=weather.get))\n",
    "        continue\n",
    "    if new_observations[i] is 'A':\n",
    "        if i == 0:\n",
    "            weather['S'] *= emis_prob['S->A']\n",
    "            weather['R'] *= emis_prob['R->A']\n",
    "        else:\n",
    "            weather['S'] = max([w1 * emis_prob['S->A'] * trans_prob['S->S'],w2 * emis_prob['S->A'] * trans_prob['R->S']])\n",
    "            weather['R'] = max([w1 * emis_prob['R->A'] * trans_prob['S->R'],w2 * emis_prob['R->A'] * trans_prob['R->R']])\n",
    "        predict_states.append(max(weather, key=weather.get))\n",
    "\n",
    "predict_states"
   ]
  }
 ],
 "metadata": {
  "kernelspec": {
   "display_name": "Python 3",
   "language": "python",
   "name": "python3"
  },
  "language_info": {
   "codemirror_mode": {
    "name": "ipython",
    "version": 3
   },
   "file_extension": ".py",
   "mimetype": "text/x-python",
   "name": "python",
   "nbconvert_exporter": "python",
   "pygments_lexer": "ipython3",
   "version": "3.7.3"
  }
 },
 "nbformat": 4,
 "nbformat_minor": 2
}
